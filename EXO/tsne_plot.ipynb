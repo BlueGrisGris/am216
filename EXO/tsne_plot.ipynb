{
  "cells": [
    {
      "cell_type": "markdown",
      "metadata": {
        "id": "view-in-github",
        "colab_type": "text"
      },
      "source": [
        "<a href=\"https://colab.research.google.com/github/BlueGrisGris/am216/blob/ethan_tsne/tsne_plot.ipynb\" target=\"_parent\"><img src=\"https://colab.research.google.com/assets/colab-badge.svg\" alt=\"Open In Colab\"/></a>"
      ]
    },
    {
      "cell_type": "code",
      "execution_count": 14,
      "id": "1f21c64b",
      "metadata": {
        "id": "1f21c64b"
      },
      "outputs": [],
      "source": [
        "import matplotlib.pyplot as plt\n",
        "import numpy as np\n",
        "import os.path\n",
        "import tensorflow as tf\n",
        "import json\n",
        "from sklearn.model_selection import train_test_split\n",
        "from  sklearn.manifold import TSNE as TSNE\n",
        "from sklearn.svm import SVC as SVC\n",
        "from sklearn.decomposition import PCA as PCA\n",
        "from sklearn import (manifold, datasets, decomposition, ensemble,\n",
        "                     discriminant_analysis, random_projection, neighbors)\n",
        "from matplotlib import offsetbox\n",
        "from time import time"
      ]
    },
    {
      "cell_type": "code",
      "source": [
        "import os\n",
        "from google.colab import drive \n",
        "drive.mount('/content/drive')\n",
        "os.chdir(\"/content/drive/MyDrive/Mini Project\")\n",
        "\n",
        "print(os.listdir())"
      ],
      "metadata": {
        "colab": {
          "base_uri": "https://localhost:8080/"
        },
        "id": "afZImGqd9Xpw",
        "outputId": "a9afdf35-d67d-40f4-8fe9-825cadcf6cac"
      },
      "id": "afZImGqd9Xpw",
      "execution_count": 2,
      "outputs": [
        {
          "output_type": "stream",
          "name": "stdout",
          "text": [
            "Drive already mounted at /content/drive; to attempt to forcibly remount, call drive.mount(\"/content/drive\", force_remount=True).\n",
            "['Mini-projects-2022.zip', 'Mini-projects-2022.zip (Unzipped Files)', 'Exoplanets', 'local.csv', 'global.csv', 'labels.csv', 'AM216_Exoplanets (1).ipynb', 'conv_model', 'dense_model', 'AM216_Exoplanets.ipynb', 'lstm_model', 'model.png', 'conv_model.h5', 'plots']\n"
          ]
        }
      ]
    },
    {
      "cell_type": "code",
      "execution_count": 3,
      "id": "0ac72841",
      "metadata": {
        "collapsed": true,
        "id": "0ac72841"
      },
      "outputs": [],
      "source": [
        "local_data = np.loadtxt('local.csv')\n",
        "global_data = np.loadtxt('global.csv')\n",
        "labels = np.loadtxt('labels.csv')\n",
        "\n",
        "local_train, local_test, y_train, y_test = train_test_split(local_data, labels, test_size=0.2, random_state=1)\n",
        "\n",
        "global_train, global_test, y_train2, y_test2 = train_test_split(global_data, labels, test_size=0.2, random_state=1)\n",
        "\n",
        "### Generate the mini labeled light intensity plots to put inside the low dim tsne space\n",
        "### Computationally expensive so only do once\n",
        "\n",
        "# plt.clf\n",
        "# for pp in range(1640,3148):\n",
        "# # for pp in range(8):\n",
        "# #     print(pp)\n",
        "#     ax = plt.axes()\n",
        "#     plt.plot(local_test[pp,:],color = \"black\")\n",
        "#     plt.yticks([])\n",
        "#     plt.xticks([])\n",
        "#     if y_test[pp] == 0:\n",
        "#         ax.set_facecolor(\"red\")\n",
        "#     if y_test[pp] == 1:\n",
        "#         ax.set_facecolor(\"blue\")\n",
        "#     plt.savefig(\"plots/lc\" + str(pp) + \".png\" )\n",
        "# #     plt.show()\n",
        "#     plt.clf\n",
        "   "
      ]
    },
    {
      "cell_type": "code",
      "execution_count": 4,
      "id": "a2c7cf6e",
      "metadata": {
        "id": "a2c7cf6e"
      },
      "outputs": [],
      "source": [
        "from tensorflow.keras.models import load_model\n",
        "\n",
        "model = load_model(\"conv_model\")\n"
      ]
    },
    {
      "cell_type": "code",
      "execution_count": 26,
      "id": "db2f173b",
      "metadata": {
        "colab": {
          "base_uri": "https://localhost:8080/",
          "height": 1000
        },
        "id": "db2f173b",
        "outputId": "43d7da2e-9fc7-4e07-eff4-5b1c4ff47f25"
      },
      "outputs": [
        {
          "output_type": "stream",
          "name": "stdout",
          "text": [
            "Model: \"model_12\"\n",
            "__________________________________________________________________________________________________\n",
            " Layer (type)                   Output Shape         Param #     Connected to                     \n",
            "==================================================================================================\n",
            " input_6 (InputLayer)           [(None, 2001, 1)]    0           []                               \n",
            "                                                                                                  \n",
            " conv1d_14 (Conv1D)             (None, 1997, 16)     96          ['input_6[0][0]']                \n",
            "                                                                                                  \n",
            " conv1d_15 (Conv1D)             (None, 1993, 16)     1296        ['conv1d_14[0][0]']              \n",
            "                                                                                                  \n",
            " max_pooling1d_7 (MaxPooling1D)  (None, 995, 16)     0           ['conv1d_15[0][0]']              \n",
            "                                                                                                  \n",
            " conv1d_16 (Conv1D)             (None, 991, 32)      2592        ['max_pooling1d_7[0][0]']        \n",
            "                                                                                                  \n",
            " conv1d_17 (Conv1D)             (None, 987, 32)      5152        ['conv1d_16[0][0]']              \n",
            "                                                                                                  \n",
            " max_pooling1d_8 (MaxPooling1D)  (None, 492, 32)     0           ['conv1d_17[0][0]']              \n",
            "                                                                                                  \n",
            " conv1d_18 (Conv1D)             (None, 488, 64)      10304       ['max_pooling1d_8[0][0]']        \n",
            "                                                                                                  \n",
            " input_5 (InputLayer)           [(None, 201, 1)]     0           []                               \n",
            "                                                                                                  \n",
            " conv1d_19 (Conv1D)             (None, 484, 64)      20544       ['conv1d_18[0][0]']              \n",
            "                                                                                                  \n",
            " dense_13 (Dense)               (None, 201, 2001)    4002        ['input_5[0][0]']                \n",
            "                                                                                                  \n",
            " max_pooling1d_9 (MaxPooling1D)  (None, 240, 64)     0           ['conv1d_19[0][0]']              \n",
            "                                                                                                  \n",
            " conv1d_24 (Conv1D)             (None, 197, 16)      160096      ['dense_13[0][0]']               \n",
            "                                                                                                  \n",
            " conv1d_20 (Conv1D)             (None, 236, 128)     41088       ['max_pooling1d_9[0][0]']        \n",
            "                                                                                                  \n",
            " conv1d_25 (Conv1D)             (None, 193, 16)      1296        ['conv1d_24[0][0]']              \n",
            "                                                                                                  \n",
            " conv1d_21 (Conv1D)             (None, 232, 128)     82048       ['conv1d_20[0][0]']              \n",
            "                                                                                                  \n",
            " max_pooling1d_12 (MaxPooling1D  (None, 94, 16)      0           ['conv1d_25[0][0]']              \n",
            " )                                                                                                \n",
            "                                                                                                  \n",
            " max_pooling1d_10 (MaxPooling1D  (None, 114, 128)    0           ['conv1d_21[0][0]']              \n",
            " )                                                                                                \n",
            "                                                                                                  \n",
            " conv1d_26 (Conv1D)             (None, 90, 32)       2592        ['max_pooling1d_12[0][0]']       \n",
            "                                                                                                  \n",
            " conv1d_22 (Conv1D)             (None, 110, 256)     164096      ['max_pooling1d_10[0][0]']       \n",
            "                                                                                                  \n",
            " conv1d_27 (Conv1D)             (None, 86, 32)       5152        ['conv1d_26[0][0]']              \n",
            "                                                                                                  \n",
            " conv1d_23 (Conv1D)             (None, 106, 256)     327936      ['conv1d_22[0][0]']              \n",
            "                                                                                                  \n",
            " max_pooling1d_13 (MaxPooling1D  (None, 40, 32)      0           ['conv1d_27[0][0]']              \n",
            " )                                                                                                \n",
            "                                                                                                  \n",
            " max_pooling1d_11 (MaxPooling1D  (None, 51, 256)     0           ['conv1d_23[0][0]']              \n",
            " )                                                                                                \n",
            "                                                                                                  \n",
            " flatten_3 (Flatten)            (None, 1280)         0           ['max_pooling1d_13[0][0]']       \n",
            "                                                                                                  \n",
            " flatten_2 (Flatten)            (None, 13056)        0           ['max_pooling1d_11[0][0]']       \n",
            "                                                                                                  \n",
            " concatenate_2 (Concatenate)    (None, 14336)        0           ['flatten_3[0][0]',              \n",
            "                                                                  'flatten_2[0][0]']              \n",
            "                                                                                                  \n",
            " dense_14 (Dense)               (None, 512)          7340544     ['concatenate_2[0][0]']          \n",
            "                                                                                                  \n",
            " dense_15 (Dense)               (None, 512)          262656      ['dense_14[0][0]']               \n",
            "                                                                                                  \n",
            " dense_16 (Dense)               (None, 512)          262656      ['dense_15[0][0]']               \n",
            "                                                                                                  \n",
            " dense_17 (Dense)               (None, 512)          262656      ['dense_16[0][0]']               \n",
            "                                                                                                  \n",
            "==================================================================================================\n",
            "Total params: 8,956,802\n",
            "Trainable params: 8,956,802\n",
            "Non-trainable params: 0\n",
            "__________________________________________________________________________________________________\n"
          ]
        },
        {
          "output_type": "stream",
          "name": "stderr",
          "text": [
            "/usr/local/lib/python3.7/dist-packages/sklearn/manifold/_t_sne.py:793: FutureWarning: The default learning rate in TSNE will change from 200.0 to 'auto' in 1.2.\n",
            "  FutureWarning,\n",
            "/usr/local/lib/python3.7/dist-packages/sklearn/manifold/_t_sne.py:986: FutureWarning: The PCA initialization in TSNE will change to have the standard deviation of PC1 equal to 1e-4 in 1.2. This will ensure better convergence.\n",
            "  FutureWarning,\n"
          ]
        },
        {
          "output_type": "display_data",
          "data": {
            "text/plain": [
              "<Figure size 1296x864 with 1 Axes>"
            ],
            "image/png": "[encoded data removed]"
          },
          "metadata": {}
        }
      ],
      "source": [
        "local_len = local_train.shape[1]\n",
        "global_len = global_train.shape[1]\n",
        "local_input = tf.keras.Input(shape=(local_len,1))\n",
        "global_input = tf.keras.Input(shape=(global_len,1))\n",
        "\n",
        "X = model.layers[-2].output\n",
        "model2 = tf.keras.Model(inputs = model.inputs,outputs = X)\n",
        "model2.summary()\n",
        "\n",
        "\n",
        "X = model2.predict((local_test,global_test))\n",
        "y = y_test\n",
        "\n",
        "# X = local_test[1:1000]\n",
        "# y = y_test[1:1000]\n",
        "\n",
        "# Scale and visualize the embedding vectors\n",
        "def plot_embedding(X, title=None):\n",
        "    x_min, x_max = np.min(X, 0), np.max(X, 0)\n",
        "    X = (X - x_min) / (x_max - x_min)\n",
        "\n",
        "    plt.figure(figsize = (18,12))\n",
        "    ax = plt.subplot(111)\n",
        "#     for i in range(X.shape[0]):\n",
        "#         plt.text(X[i, 0], X[i, 1], str(y[i]),\n",
        "#                  color=plt.cm.Set1(y[i]),\n",
        "#                  fontdict={'weight': 'bold', 'size': 9})\n",
        "\n",
        "    if hasattr(offsetbox, 'AnnotationBbox'):\n",
        "#         with open('Exoplanets/PC/0.json', 'r') as fp:\n",
        "#             exo_dictionary = json.load(fp)\n",
        "#         with \"plots/lc\" + str(pp) + \".png\" as file:\n",
        "        # only print thumbnails with matplotlib > 1.0\n",
        "        shown_images = np.array([[1., 1.]])  # just something big\n",
        "        for i in range(X.shape[0]):\n",
        "            dist = np.sum((X[i] - shown_images) ** 2, 1)\n",
        "            if np.min(dist) < 4e-3:\n",
        "                # don't show points that are too close\n",
        "                continue\n",
        "            shown_images = np.r_[shown_images, [X[i]]]\n",
        "            arr_img = plt.imread(\"plots/lc\" + str(i) + \".png\")\n",
        "            \n",
        "            imagebox = offsetbox.AnnotationBbox(\n",
        "#                 offsetbox.OffsetImage(digits.images[i], cmap=plt.cm.gray_r)\n",
        "                offsetbox.OffsetImage( arr_img , cmap=plt.cm.gray_r,zoom = .05)\n",
        "                , X[i]\n",
        "                , xybox= 1*X[i]\n",
        "                , xycoords = 'data'\n",
        "            )\n",
        "            ax.add_artist(imagebox)\n",
        "    plt.xticks([]), plt.yticks([])\n",
        "    if title is not None:\n",
        "        plt.title(title)\n",
        "\n",
        "### Run Tsne embedding and plot \n",
        "plt.clf\n",
        "tsne = manifold.TSNE(n_components=2, init='pca', random_state=0)\n",
        "t0 = time()\n",
        "X_tsne = tsne.fit_transform(X)\n",
        "\n",
        "plot_embedding(X_tsne\n",
        "#                \"t-SNE embedding of the digits (time %.2fs)\" %\n",
        "#                (time() - t0)\n",
        "              )\n",
        "plt.show()"
      ]
    }
  ],
  "metadata": {
    "kernelspec": {
      "display_name": "Python 3",
      "language": "python",
      "name": "python3"
    },
    "language_info": {
      "codemirror_mode": {
        "name": "ipython",
        "version": 3
      },
      "file_extension": ".py",
      "mimetype": "text/x-python",
      "name": "python",
      "nbconvert_exporter": "python",
      "pygments_lexer": "ipython3",
      "version": "3.7.11"
    },
    "colab": {
      "name": "tsne_plot.ipynb",
      "provenance": [],
      "include_colab_link": true
    }
  },
  "nbformat": 4,
  "nbformat_minor": 5
}